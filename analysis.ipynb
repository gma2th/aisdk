{
 "cells": [
  {
   "cell_type": "markdown",
   "metadata": {},
   "source": [
    "# Introduction\n",
    "\n",
    "We will analyze a sample of AIS data from the Danish Maritime Authority.\n",
    "\n",
    "The data as been preprocessed using postgres, postgis, and timescaledb. We performed the following:\n",
    "\n",
    "- Remove position with incorrect coordinates\n",
    "- Keep one position every thirty minutes using timescaledb\n",
    "- Calculate a fishing score based on [Global Fish Watch heuristic model](https://github.com/GlobalFishingWatch/vessel-scoring/blob/master/notebooks/Model-Descriptions.ipynb)\n",
    "- Calculate a distance from land using land polygon from [pgosmdata](https://github.com/gma2th/pgosmdata) and postgis nearest neighbor algorithm\n",
    "- Create fishing zones with dbscan algorithm\n",
    "\n",
    "\n",
    "In this notebook we will:\n",
    "\n",
    "- Load and explore the data\n",
    "- Find ships with the longest self-reported fishing time\n",
    "- Find ships with the longest fishing time that does not report fishing in their navigational status\n",
    "- Find the longest trip of the day"
   ]
  },
  {
   "cell_type": "code",
   "execution_count": null,
   "metadata": {},
   "outputs": [],
   "source": [
    "%matplotlib inline"
   ]
  },
  {
   "cell_type": "code",
   "execution_count": null,
   "metadata": {},
   "outputs": [],
   "source": [
    "import datetime as dt\n",
    "import geopandas as gpd\n",
    "import numpy as np\n",
    "import movingpandas as mpd\n",
    "import pandas as pd\n",
    "from shapely.geometry import Polygon\n",
    "\n",
    "from fiona.crs import from_epsg\n",
    "\n",
    "import warnings\n",
    "warnings.simplefilter(\"ignore\")"
   ]
  },
  {
   "cell_type": "markdown",
   "metadata": {},
   "source": [
    "# Loading sample AIS data"
   ]
  },
  {
   "cell_type": "code",
   "execution_count": null,
   "metadata": {},
   "outputs": [],
   "source": [
    "%%time\n",
    "\n",
    "SAMPLING_DELTA = dt.timedelta(minutes=30)\n",
    "\n",
    "_df = gpd.read_file('data/aisdk_30min.gpkg')\n",
    "df = _df.copy(deep=True)\n",
    "print(\"Finished reading {}\".format(len(df)))"
   ]
  },
  {
   "cell_type": "markdown",
   "metadata": {},
   "source": [
    "Let's have a first look at the data:"
   ]
  },
  {
   "cell_type": "code",
   "execution_count": null,
   "metadata": {},
   "outputs": [],
   "source": [
    "df.head()"
   ]
  },
  {
   "cell_type": "code",
   "execution_count": null,
   "metadata": {},
   "outputs": [],
   "source": [
    "df.describe()"
   ]
  },
  {
   "cell_type": "code",
   "execution_count": null,
   "metadata": {},
   "outputs": [],
   "source": [
    "df.describe(include = ['O'])"
   ]
  },
  {
   "cell_type": "code",
   "execution_count": null,
   "metadata": {
    "scrolled": true
   },
   "outputs": [],
   "source": [
    "df.columns"
   ]
  },
  {
   "cell_type": "markdown",
   "metadata": {},
   "source": [
    "# Preprocessing"
   ]
  },
  {
   "cell_type": "markdown",
   "metadata": {},
   "source": [
    "What type of ships are in our dataset?"
   ]
  },
  {
   "cell_type": "code",
   "execution_count": null,
   "metadata": {},
   "outputs": [],
   "source": [
    "df['ship_type'].value_counts().plot(kind='bar', figsize=(15,3))"
   ]
  },
  {
   "cell_type": "markdown",
   "metadata": {},
   "source": [
    "The vessel might be spoofing its vessel type, but we will only work with vessels with a type fishing:"
   ]
  },
  {
   "cell_type": "code",
   "execution_count": null,
   "metadata": {},
   "outputs": [],
   "source": [
    "df = df[df.ship_type == 'Fishing']"
   ]
  },
  {
   "cell_type": "markdown",
   "metadata": {},
   "source": [
    "Most of the navigational statuses are \"Engaged in fishing\", but there is also a lot of unknown values:"
   ]
  },
  {
   "cell_type": "code",
   "execution_count": null,
   "metadata": {},
   "outputs": [],
   "source": [
    "df.navigational_status.value_counts().plot(kind=\"bar\")"
   ]
  },
  {
   "cell_type": "markdown",
   "metadata": {},
   "source": [
    "    There are a lot of records with speed over ground (SOG) values of zero in this dataframe:"
   ]
  },
  {
   "cell_type": "code",
   "execution_count": null,
   "metadata": {},
   "outputs": [],
   "source": [
    "df['sog'].hist(bins=100, figsize=(15,3))"
   ]
  },
  {
   "cell_type": "markdown",
   "metadata": {},
   "source": [
    "Let's get rid of the rows with a SOG of zero:"
   ]
  },
  {
   "cell_type": "code",
   "execution_count": null,
   "metadata": {},
   "outputs": [],
   "source": [
    "print(\"Original size: {} rows\".format(len(df)))\n",
    "df = df[df.sog>0.0]\n",
    "print(\"Reduced to {} rows after removing 0 speed records\".format(len(df)))\n",
    "df['sog'].hist(bins=100, figsize=(15,3))"
   ]
  },
  {
   "cell_type": "markdown",
   "metadata": {},
   "source": [
    "Let's plot the positions:"
   ]
  },
  {
   "cell_type": "code",
   "execution_count": null,
   "metadata": {},
   "outputs": [],
   "source": [
    "df.hvplot(geo=True, tiles=\"OSM\", color='red', alpha=0.2)"
   ]
  },
  {
   "cell_type": "markdown",
   "metadata": {},
   "source": [
    "# Analysis"
   ]
  },
  {
   "cell_type": "markdown",
   "metadata": {},
   "source": [
    "We will use movingpandas to build and plot trajectories.\n",
    "We first need to create a temporal index:"
   ]
  },
  {
   "cell_type": "code",
   "execution_count": null,
   "metadata": {},
   "outputs": [],
   "source": [
    "df['t'] = pd.to_datetime(df['bucket'])\n",
    "df = df.set_index('t')"
   ]
  },
  {
   "cell_type": "code",
   "execution_count": null,
   "metadata": {},
   "outputs": [],
   "source": [
    "%%time\n",
    "# MIN_LENGTH = 100 # meters\n",
    "traj_collection = mpd.TrajectoryCollection(df, 'mmsi')\n",
    "print(\"Finished creating {} trajectories\".format(len(traj_collection)))"
   ]
  },
  {
   "cell_type": "markdown",
   "metadata": {},
   "source": [
    "## Find ships with the longest self-reported fishing time"
   ]
  },
  {
   "cell_type": "code",
   "execution_count": null,
   "metadata": {},
   "outputs": [],
   "source": [
    "df[df[\"navigational_status\"] == \"Engaged in fishing\"].groupby(\"mmsi\").size().nlargest(10) * SAMPLING_DELTA"
   ]
  },
  {
   "cell_type": "code",
   "execution_count": null,
   "metadata": {},
   "outputs": [],
   "source": [
    "traj_collection.get_trajectory(211519000).hvplot(cmap='Dark2', height=300, line_width=5.0)"
   ]
  },
  {
   "cell_type": "markdown",
   "metadata": {},
   "source": [
    "## Find ships with the longest fishing time that does not report fishing in their navigational status"
   ]
  },
  {
   "cell_type": "code",
   "execution_count": null,
   "metadata": {},
   "outputs": [],
   "source": [
    "df[(df[\"navigational_status\"] != \"Engaged in fishing\") & (df[\"fishing_score\"] > 0.5) & (df[\"distance_from_land\"] > 1000)].groupby(\"mmsi\").size().nlargest(10) * SAMPLING_DELTA"
   ]
  },
  {
   "cell_type": "code",
   "execution_count": null,
   "metadata": {
    "scrolled": true
   },
   "outputs": [],
   "source": [
    "traj_collection.get_trajectory(235007860).hvplot(cmap='Dark2', height=300, line_width=5.0)"
   ]
  },
  {
   "cell_type": "markdown",
   "metadata": {},
   "source": [
    "## Find the longest trip of the day"
   ]
  },
  {
   "cell_type": "code",
   "execution_count": null,
   "metadata": {},
   "outputs": [],
   "source": [
    "traj_collection.df = pd.DataFrame([(traj.id, traj) for traj in traj_collection.trajectories], columns=[\"id\", \"trajectory\"])\n",
    "traj_collection.df[\"length\"] = traj_collection.df.trajectory.apply(lambda traj: traj.get_length())"
   ]
  },
  {
   "cell_type": "code",
   "execution_count": null,
   "metadata": {},
   "outputs": [],
   "source": [
    "traj_collection.df.sort_values(\"length\", ascending=False).head()"
   ]
  },
  {
   "cell_type": "code",
   "execution_count": null,
   "metadata": {},
   "outputs": [],
   "source": [
    "traj_collection.get_trajectory(220141000).hvplot(cmap='Dark2', height=300, line_width=5.0)"
   ]
  },
  {
   "cell_type": "markdown",
   "metadata": {},
   "source": [
    "# Next steps\n",
    "\n",
    "- We use Global Fish Watch heuristic model to predict is vessel are fishing. We could go further by using their logistic model.\n",
    "- Perform track analysis to find gap or AIS spoofing in messages received.\n",
    "\n",
    "\n"
   ]
  }
 ],
 "metadata": {
  "kernelspec": {
   "display_name": "movingpandas",
   "language": "python",
   "name": "movingpandas"
  },
  "language_info": {
   "codemirror_mode": {
    "name": "ipython",
    "version": 3
   },
   "file_extension": ".py",
   "mimetype": "text/x-python",
   "name": "python",
   "nbconvert_exporter": "python",
   "pygments_lexer": "ipython3",
   "version": "3.7.6"
  }
 },
 "nbformat": 4,
 "nbformat_minor": 4
}